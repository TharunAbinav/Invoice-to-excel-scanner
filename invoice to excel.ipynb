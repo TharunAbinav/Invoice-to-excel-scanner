{
 "cells": [
  {
   "cell_type": "code",
   "execution_count": null,
   "id": "f8b1104b",
   "metadata": {},
   "outputs": [],
   "source": [
    "import re\n",
    "import pytesseract as tess\n",
    "from PIL import Image\n",
    "import csv\n",
    "\n",
    "data = [[\"COMPANY NAME\", \"CUSTOMER\", \"PHONE NUMBER\", \"EMAIL\", \"PAYMENT DUE\"]]\n",
    "\n",
    "while True:\n",
    "    ch=int(input(\"\\n1.Scane and upload \\n2.Exit\\nEnter you choice :\"))\n",
    "    if ch==1:\n",
    "        nimg=input(\"\\nEnter image name to be scaned :\")\n",
    "        image = Image.open(f\"C:\\\\Users\\\\weban\\\\Pictures\\\\{nimg}.png\")\n",
    "        text = tess.image_to_string(image)\n",
    "\n",
    "        cpattern=[\"BILLED TO: (.*)\",\"BILLED TO:\\n.*\\n(.*)\",\"BILL TO:\\n.*\\n(.*) D\"]\n",
    "        customer=[]\n",
    "        for pattern in cpattern:\n",
    "            if len(customer) == 0:\n",
    "                customer=re.findall(pattern,text)\n",
    "\n",
    "        comppattern=[\"Total amount (.*)\",\"TOTAL (.*)\",\"Total (.*)\"]\n",
    "        total=[]\n",
    "        for compattern in comppattern:\n",
    "            if len(total) == 0:\n",
    "                total=re.findall(compattern,text)\n",
    "\n",
    "        apattern=[\"PAY TO: (.*)\",\"FROM.*\\n.*\\n(.*)\",\"Account Name: (.*)\"]\n",
    "        comp=[]\n",
    "        for acomp in apattern:\n",
    "            if len(comp) == 0:\n",
    "                comp=re.findall(acomp,text)\n",
    "        \n",
    "        phonepattern=\"\\d{3}-\\d{3}-\\d{4}|\\d{10}\"\n",
    "        phnum=re.findall(phonepattern,text)\n",
    "        \n",
    "        emailpattern=\"[a-z0-9A-Z_]*@[a-z0-9A-Z_]*\\.com\"\n",
    "        email=re.findall(emailpattern,text)\n",
    "\n",
    "        customer = list(set(customer)) if customer else \"NA\"\n",
    "        comp = list(set(comp)) if comp else [\"NA\"]\n",
    "        total = list(set(total)) if total else [\"NA\"]\n",
    "        phnum = list(set(phnum)) if phnum else [\"NA\"]\n",
    "        email = list(set(email)) if email else [\"NA\"]\n",
    "\n",
    "        rows=[comp[0],customer[0],phnum[0],email[0],total[0]]\n",
    "        \n",
    "        data.append(rows)\n",
    "    else:\n",
    "        with open('output.csv', 'w', newline='') as file:\n",
    "            writer = csv.writer(file)\n",
    "            writer.writerows(data)\n",
    "        file.close()\n",
    "        break"
   ]
  }
 ],
 "metadata": {
  "kernelspec": {
   "display_name": "Python 3 (ipykernel)",
   "language": "python",
   "name": "python3"
  },
  "language_info": {
   "codemirror_mode": {
    "name": "ipython",
    "version": 3
   },
   "file_extension": ".py",
   "mimetype": "text/x-python",
   "name": "python",
   "nbconvert_exporter": "python",
   "pygments_lexer": "ipython3",
   "version": "3.11.5"
  }
 },
 "nbformat": 4,
 "nbformat_minor": 5
}
